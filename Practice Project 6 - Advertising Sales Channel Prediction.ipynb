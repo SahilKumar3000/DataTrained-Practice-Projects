{
 "cells": [
  {
   "cell_type": "markdown",
   "id": "46801900",
   "metadata": {},
   "source": [
    "# Practice Project 6 - Advertising Sales Channel Prediction"
   ]
  },
  {
   "cell_type": "markdown",
   "id": "b82fdffc",
   "metadata": {},
   "source": [
    "## Importing necessary libraries"
   ]
  },
  {
   "cell_type": "code",
   "execution_count": 1,
   "id": "35b266d3",
   "metadata": {},
   "outputs": [],
   "source": [
    "import pandas as pd\n",
    "import numpy as np\n",
    "import seaborn as sns\n",
    "import matplotlib.pyplot as plt\n",
    "%matplotlib inline\n",
    "from scipy.stats import zscore\n",
    "from sklearn.impute import SimpleImputer\n",
    "from sklearn.preprocessing import PowerTransformer\n",
    "from sklearn.preprocessing import StandardScaler\n",
    "from statsmodels.stats.outliers_influence import variance_inflation_factor\n",
    "from sklearn.feature_selection import SelectKBest, f_classif\n",
    "from sklearn.model_selection import train_test_split\n",
    "from sklearn.model_selection import GridSearchCV\n",
    "from sklearn.linear_model import LinearRegression,Ridge, Lasso\n",
    "from sklearn.ensemble import RandomForestRegressor\n",
    "from sklearn.svm import SVR\n",
    "from sklearn.metrics import r2_score,mean_squared_error\n",
    "from sklearn.model_selection import ShuffleSplit,cross_val_score\n",
    "import joblib\n",
    "\n",
    "import warnings\n",
    "warnings.filterwarnings('ignore')"
   ]
  },
  {
   "cell_type": "markdown",
   "id": "31ef2222",
   "metadata": {},
   "source": [
    "## Loading the dataset"
   ]
  },
  {
   "cell_type": "code",
   "execution_count": 2,
   "id": "98fb497b",
   "metadata": {},
   "outputs": [
    {
     "data": {
      "text/html": [
       "<div>\n",
       "<style scoped>\n",
       "    .dataframe tbody tr th:only-of-type {\n",
       "        vertical-align: middle;\n",
       "    }\n",
       "\n",
       "    .dataframe tbody tr th {\n",
       "        vertical-align: top;\n",
       "    }\n",
       "\n",
       "    .dataframe thead th {\n",
       "        text-align: right;\n",
       "    }\n",
       "</style>\n",
       "<table border=\"1\" class=\"dataframe\">\n",
       "  <thead>\n",
       "    <tr style=\"text-align: right;\">\n",
       "      <th></th>\n",
       "      <th>Unnamed: 0</th>\n",
       "      <th>TV</th>\n",
       "      <th>radio</th>\n",
       "      <th>newspaper</th>\n",
       "      <th>sales</th>\n",
       "    </tr>\n",
       "  </thead>\n",
       "  <tbody>\n",
       "    <tr>\n",
       "      <th>0</th>\n",
       "      <td>1</td>\n",
       "      <td>230.1</td>\n",
       "      <td>37.8</td>\n",
       "      <td>69.2</td>\n",
       "      <td>22.1</td>\n",
       "    </tr>\n",
       "    <tr>\n",
       "      <th>1</th>\n",
       "      <td>2</td>\n",
       "      <td>44.5</td>\n",
       "      <td>39.3</td>\n",
       "      <td>45.1</td>\n",
       "      <td>10.4</td>\n",
       "    </tr>\n",
       "    <tr>\n",
       "      <th>2</th>\n",
       "      <td>3</td>\n",
       "      <td>17.2</td>\n",
       "      <td>45.9</td>\n",
       "      <td>69.3</td>\n",
       "      <td>9.3</td>\n",
       "    </tr>\n",
       "    <tr>\n",
       "      <th>3</th>\n",
       "      <td>4</td>\n",
       "      <td>151.5</td>\n",
       "      <td>41.3</td>\n",
       "      <td>58.5</td>\n",
       "      <td>18.5</td>\n",
       "    </tr>\n",
       "    <tr>\n",
       "      <th>4</th>\n",
       "      <td>5</td>\n",
       "      <td>180.8</td>\n",
       "      <td>10.8</td>\n",
       "      <td>58.4</td>\n",
       "      <td>12.9</td>\n",
       "    </tr>\n",
       "    <tr>\n",
       "      <th>5</th>\n",
       "      <td>6</td>\n",
       "      <td>8.7</td>\n",
       "      <td>48.9</td>\n",
       "      <td>75.0</td>\n",
       "      <td>7.2</td>\n",
       "    </tr>\n",
       "    <tr>\n",
       "      <th>6</th>\n",
       "      <td>7</td>\n",
       "      <td>57.5</td>\n",
       "      <td>32.8</td>\n",
       "      <td>23.5</td>\n",
       "      <td>11.8</td>\n",
       "    </tr>\n",
       "    <tr>\n",
       "      <th>7</th>\n",
       "      <td>8</td>\n",
       "      <td>120.2</td>\n",
       "      <td>19.6</td>\n",
       "      <td>11.6</td>\n",
       "      <td>13.2</td>\n",
       "    </tr>\n",
       "    <tr>\n",
       "      <th>8</th>\n",
       "      <td>9</td>\n",
       "      <td>8.6</td>\n",
       "      <td>2.1</td>\n",
       "      <td>1.0</td>\n",
       "      <td>4.8</td>\n",
       "    </tr>\n",
       "    <tr>\n",
       "      <th>9</th>\n",
       "      <td>10</td>\n",
       "      <td>199.8</td>\n",
       "      <td>2.6</td>\n",
       "      <td>21.2</td>\n",
       "      <td>10.6</td>\n",
       "    </tr>\n",
       "  </tbody>\n",
       "</table>\n",
       "</div>"
      ],
      "text/plain": [
       "   Unnamed: 0     TV  radio  newspaper  sales\n",
       "0           1  230.1   37.8       69.2   22.1\n",
       "1           2   44.5   39.3       45.1   10.4\n",
       "2           3   17.2   45.9       69.3    9.3\n",
       "3           4  151.5   41.3       58.5   18.5\n",
       "4           5  180.8   10.8       58.4   12.9\n",
       "5           6    8.7   48.9       75.0    7.2\n",
       "6           7   57.5   32.8       23.5   11.8\n",
       "7           8  120.2   19.6       11.6   13.2\n",
       "8           9    8.6    2.1        1.0    4.8\n",
       "9          10  199.8    2.6       21.2   10.6"
      ]
     },
     "execution_count": 2,
     "metadata": {},
     "output_type": "execute_result"
    }
   ],
   "source": [
    "df = pd.read_csv('advertising.csv')\n",
    "df.head(10)"
   ]
  },
  {
   "cell_type": "code",
   "execution_count": 3,
   "id": "fbd9d0dc",
   "metadata": {},
   "outputs": [
    {
     "data": {
      "text/plain": [
       "(200, 5)"
      ]
     },
     "execution_count": 3,
     "metadata": {},
     "output_type": "execute_result"
    }
   ],
   "source": [
    "df.shape"
   ]
  },
  {
   "cell_type": "code",
   "execution_count": 4,
   "id": "619f7f85",
   "metadata": {
    "scrolled": false
   },
   "outputs": [
    {
     "data": {
      "text/html": [
       "<div>\n",
       "<style scoped>\n",
       "    .dataframe tbody tr th:only-of-type {\n",
       "        vertical-align: middle;\n",
       "    }\n",
       "\n",
       "    .dataframe tbody tr th {\n",
       "        vertical-align: top;\n",
       "    }\n",
       "\n",
       "    .dataframe thead th {\n",
       "        text-align: right;\n",
       "    }\n",
       "</style>\n",
       "<table border=\"1\" class=\"dataframe\">\n",
       "  <thead>\n",
       "    <tr style=\"text-align: right;\">\n",
       "      <th></th>\n",
       "      <th>TV</th>\n",
       "      <th>radio</th>\n",
       "      <th>newspaper</th>\n",
       "      <th>sales</th>\n",
       "    </tr>\n",
       "  </thead>\n",
       "  <tbody>\n",
       "    <tr>\n",
       "      <th>0</th>\n",
       "      <td>230.1</td>\n",
       "      <td>37.8</td>\n",
       "      <td>69.2</td>\n",
       "      <td>22.1</td>\n",
       "    </tr>\n",
       "    <tr>\n",
       "      <th>1</th>\n",
       "      <td>44.5</td>\n",
       "      <td>39.3</td>\n",
       "      <td>45.1</td>\n",
       "      <td>10.4</td>\n",
       "    </tr>\n",
       "    <tr>\n",
       "      <th>2</th>\n",
       "      <td>17.2</td>\n",
       "      <td>45.9</td>\n",
       "      <td>69.3</td>\n",
       "      <td>9.3</td>\n",
       "    </tr>\n",
       "    <tr>\n",
       "      <th>3</th>\n",
       "      <td>151.5</td>\n",
       "      <td>41.3</td>\n",
       "      <td>58.5</td>\n",
       "      <td>18.5</td>\n",
       "    </tr>\n",
       "    <tr>\n",
       "      <th>4</th>\n",
       "      <td>180.8</td>\n",
       "      <td>10.8</td>\n",
       "      <td>58.4</td>\n",
       "      <td>12.9</td>\n",
       "    </tr>\n",
       "    <tr>\n",
       "      <th>...</th>\n",
       "      <td>...</td>\n",
       "      <td>...</td>\n",
       "      <td>...</td>\n",
       "      <td>...</td>\n",
       "    </tr>\n",
       "    <tr>\n",
       "      <th>195</th>\n",
       "      <td>38.2</td>\n",
       "      <td>3.7</td>\n",
       "      <td>13.8</td>\n",
       "      <td>7.6</td>\n",
       "    </tr>\n",
       "    <tr>\n",
       "      <th>196</th>\n",
       "      <td>94.2</td>\n",
       "      <td>4.9</td>\n",
       "      <td>8.1</td>\n",
       "      <td>9.7</td>\n",
       "    </tr>\n",
       "    <tr>\n",
       "      <th>197</th>\n",
       "      <td>177.0</td>\n",
       "      <td>9.3</td>\n",
       "      <td>6.4</td>\n",
       "      <td>12.8</td>\n",
       "    </tr>\n",
       "    <tr>\n",
       "      <th>198</th>\n",
       "      <td>283.6</td>\n",
       "      <td>42.0</td>\n",
       "      <td>66.2</td>\n",
       "      <td>25.5</td>\n",
       "    </tr>\n",
       "    <tr>\n",
       "      <th>199</th>\n",
       "      <td>232.1</td>\n",
       "      <td>8.6</td>\n",
       "      <td>8.7</td>\n",
       "      <td>13.4</td>\n",
       "    </tr>\n",
       "  </tbody>\n",
       "</table>\n",
       "<p>200 rows × 4 columns</p>\n",
       "</div>"
      ],
      "text/plain": [
       "        TV  radio  newspaper  sales\n",
       "0    230.1   37.8       69.2   22.1\n",
       "1     44.5   39.3       45.1   10.4\n",
       "2     17.2   45.9       69.3    9.3\n",
       "3    151.5   41.3       58.5   18.5\n",
       "4    180.8   10.8       58.4   12.9\n",
       "..     ...    ...        ...    ...\n",
       "195   38.2    3.7       13.8    7.6\n",
       "196   94.2    4.9        8.1    9.7\n",
       "197  177.0    9.3        6.4   12.8\n",
       "198  283.6   42.0       66.2   25.5\n",
       "199  232.1    8.6        8.7   13.4\n",
       "\n",
       "[200 rows x 4 columns]"
      ]
     },
     "execution_count": 4,
     "metadata": {},
     "output_type": "execute_result"
    }
   ],
   "source": [
    "# dropping irrelevant column\n",
    "df.drop(columns = 'Unnamed: 0',inplace = True)\n",
    "df"
   ]
  },
  {
   "cell_type": "markdown",
   "id": "05d87c0e",
   "metadata": {},
   "source": [
    "## DataFrame Description"
   ]
  },
  {
   "cell_type": "markdown",
   "id": "92776baa",
   "metadata": {},
   "source": [
    "When a company enters a market, the distribution strategy and channel it uses are keys to its success in the market, as well as market know-how and customer knowledge and understanding. Because an effective distribution strategy under efficient supply-chain management opens doors for attaining competitive advantage and strong brand equity in the market, it is a component of the marketing mix that cannot be ignored.\n",
    "<br><br>\n",
    "The distribution strategy and the channel design have to be right the first time. The case study of Sales channel includes the detailed study of TV, radio and newspaper channel. "
   ]
  },
  {
   "cell_type": "markdown",
   "id": "adf6d7c7",
   "metadata": {},
   "source": [
    "**Features:**\n",
    "1. TV - amount spent on advertising on TV\n",
    "2. radio - amount spent on advertising on radio\n",
    "3. newspaper - amount spent on advertising on newspaper"
   ]
  },
  {
   "cell_type": "markdown",
   "id": "a2a0200d",
   "metadata": {},
   "source": [
    "**Label:** \n",
    "\n",
    "- sales - total sales made as a response to the combinations of amounts spend on advertising on media/ channels"
   ]
  },
  {
   "cell_type": "markdown",
   "id": "29ab94f1",
   "metadata": {},
   "source": [
    "## EDA"
   ]
  },
  {
   "cell_type": "code",
   "execution_count": 5,
   "id": "02aa18ce",
   "metadata": {},
   "outputs": [
    {
     "name": "stdout",
     "output_type": "stream",
     "text": [
      "<class 'pandas.core.frame.DataFrame'>\n",
      "RangeIndex: 200 entries, 0 to 199\n",
      "Data columns (total 4 columns):\n",
      " #   Column     Non-Null Count  Dtype  \n",
      "---  ------     --------------  -----  \n",
      " 0   TV         200 non-null    float64\n",
      " 1   radio      200 non-null    float64\n",
      " 2   newspaper  200 non-null    float64\n",
      " 3   sales      200 non-null    float64\n",
      "dtypes: float64(4)\n",
      "memory usage: 6.4 KB\n"
     ]
    }
   ],
   "source": [
    "df.info()"
   ]
  },
  {
   "cell_type": "code",
   "execution_count": 6,
   "id": "b2b71d73",
   "metadata": {},
   "outputs": [
    {
     "data": {
      "text/html": [
       "<div>\n",
       "<style scoped>\n",
       "    .dataframe tbody tr th:only-of-type {\n",
       "        vertical-align: middle;\n",
       "    }\n",
       "\n",
       "    .dataframe tbody tr th {\n",
       "        vertical-align: top;\n",
       "    }\n",
       "\n",
       "    .dataframe thead th {\n",
       "        text-align: right;\n",
       "    }\n",
       "</style>\n",
       "<table border=\"1\" class=\"dataframe\">\n",
       "  <thead>\n",
       "    <tr style=\"text-align: right;\">\n",
       "      <th></th>\n",
       "      <th>TV</th>\n",
       "      <th>radio</th>\n",
       "      <th>newspaper</th>\n",
       "      <th>sales</th>\n",
       "    </tr>\n",
       "  </thead>\n",
       "  <tbody>\n",
       "    <tr>\n",
       "      <th>count</th>\n",
       "      <td>200.000000</td>\n",
       "      <td>200.000000</td>\n",
       "      <td>200.000000</td>\n",
       "      <td>200.000000</td>\n",
       "    </tr>\n",
       "    <tr>\n",
       "      <th>mean</th>\n",
       "      <td>147.042500</td>\n",
       "      <td>23.264000</td>\n",
       "      <td>30.554000</td>\n",
       "      <td>14.022500</td>\n",
       "    </tr>\n",
       "    <tr>\n",
       "      <th>std</th>\n",
       "      <td>85.854236</td>\n",
       "      <td>14.846809</td>\n",
       "      <td>21.778621</td>\n",
       "      <td>5.217457</td>\n",
       "    </tr>\n",
       "    <tr>\n",
       "      <th>min</th>\n",
       "      <td>0.700000</td>\n",
       "      <td>0.000000</td>\n",
       "      <td>0.300000</td>\n",
       "      <td>1.600000</td>\n",
       "    </tr>\n",
       "    <tr>\n",
       "      <th>25%</th>\n",
       "      <td>74.375000</td>\n",
       "      <td>9.975000</td>\n",
       "      <td>12.750000</td>\n",
       "      <td>10.375000</td>\n",
       "    </tr>\n",
       "    <tr>\n",
       "      <th>50%</th>\n",
       "      <td>149.750000</td>\n",
       "      <td>22.900000</td>\n",
       "      <td>25.750000</td>\n",
       "      <td>12.900000</td>\n",
       "    </tr>\n",
       "    <tr>\n",
       "      <th>75%</th>\n",
       "      <td>218.825000</td>\n",
       "      <td>36.525000</td>\n",
       "      <td>45.100000</td>\n",
       "      <td>17.400000</td>\n",
       "    </tr>\n",
       "    <tr>\n",
       "      <th>max</th>\n",
       "      <td>296.400000</td>\n",
       "      <td>49.600000</td>\n",
       "      <td>114.000000</td>\n",
       "      <td>27.000000</td>\n",
       "    </tr>\n",
       "  </tbody>\n",
       "</table>\n",
       "</div>"
      ],
      "text/plain": [
       "               TV       radio   newspaper       sales\n",
       "count  200.000000  200.000000  200.000000  200.000000\n",
       "mean   147.042500   23.264000   30.554000   14.022500\n",
       "std     85.854236   14.846809   21.778621    5.217457\n",
       "min      0.700000    0.000000    0.300000    1.600000\n",
       "25%     74.375000    9.975000   12.750000   10.375000\n",
       "50%    149.750000   22.900000   25.750000   12.900000\n",
       "75%    218.825000   36.525000   45.100000   17.400000\n",
       "max    296.400000   49.600000  114.000000   27.000000"
      ]
     },
     "execution_count": 6,
     "metadata": {},
     "output_type": "execute_result"
    }
   ],
   "source": [
    "df.describe()"
   ]
  },
  {
   "cell_type": "code",
   "execution_count": 7,
   "id": "a77d6a68",
   "metadata": {},
   "outputs": [
    {
     "data": {
      "text/plain": [
       "TV           0\n",
       "radio        0\n",
       "newspaper    0\n",
       "sales        0\n",
       "dtype: int64"
      ]
     },
     "execution_count": 7,
     "metadata": {},
     "output_type": "execute_result"
    }
   ],
   "source": [
    "df.isnull().sum()"
   ]
  },
  {
   "cell_type": "code",
   "execution_count": 8,
   "id": "53b433e5",
   "metadata": {},
   "outputs": [
    {
     "data": {
      "text/plain": [
       "TV           0\n",
       "radio        1\n",
       "newspaper    0\n",
       "sales        0\n",
       "dtype: int64"
      ]
     },
     "execution_count": 8,
     "metadata": {},
     "output_type": "execute_result"
    }
   ],
   "source": [
    "(df==0).sum()"
   ]
  },
  {
   "cell_type": "markdown",
   "id": "40ba843a",
   "metadata": {},
   "source": [
    "## Relationship between dependent and independent variables"
   ]
  },
  {
   "cell_type": "code",
   "execution_count": 9,
   "id": "c7de7667",
   "metadata": {},
   "outputs": [
    {
     "data": {
      "text/plain": [
       "<AxesSubplot:xlabel='sales', ylabel='Density'>"
      ]
     },
     "execution_count": 9,
     "metadata": {},
     "output_type": "execute_result"
    },
    {
     "data": {
      "image/png": "[encoded data removed]",
      "text/plain": [
       "<Figure size 432x288 with 1 Axes>"
      ]
     },
     "metadata": {
      "needs_background": "light"
     },
     "output_type": "display_data"
    }
   ],
   "source": [
    "# Sales\n",
    "sns.distplot(df['sales'])"
   ]
  },
  {
   "cell_type": "code",
   "execution_count": 10,
   "id": "ce8a3b12",
   "metadata": {},
   "outputs": [
    {
     "data": {
      "text/plain": [
       "0.4075714250767127"
      ]
     },
     "execution_count": 10,
     "metadata": {},
     "output_type": "execute_result"
    }
   ],
   "source": [
    "df['sales'].skew()"
   ]
  },
  {
   "cell_type": "markdown",
   "id": "e1a73db1",
   "metadata": {},
   "source": [
    "**Finding:** Sales data appears to have a fairly normal distribution."
   ]
  },
  {
   "cell_type": "code",
   "execution_count": 11,
   "id": "4ee9da6a",
   "metadata": {},
   "outputs": [],
   "source": [
    "X = df.drop(columns = ['sales'])\n",
    "y = df['sales']"
   ]
  },
  {
   "cell_type": "code",
   "execution_count": 12,
   "id": "91eecea1",
   "metadata": {},
   "outputs": [
    {
     "data": {
      "image/png": "[encoded data removed]",
      "text/plain": [
       "<Figure size 1440x1440 with 3 Axes>"
      ]
     },
     "metadata": {
      "needs_background": "light"
     },
     "output_type": "display_data"
    }
   ],
   "source": [
    "plt.figure(figsize=(20,20))\n",
    "plotnum=1\n",
    "\n",
    "for col in X:\n",
    "    if plotnum<=8:\n",
    "        plt.subplot(3,3,plotnum)\n",
    "        sns.scatterplot(y,X[col])\n",
    "        plt.xlabel('sales',fontsize=20)\n",
    "        plt.ylabel(col,fontsize=20)\n",
    "    plotnum+=1\n",
    "plt.tight_layout()"
   ]
  },
  {
   "cell_type": "markdown",
   "id": "cced9c06",
   "metadata": {},
   "source": [
    "**Finding:** Positive linear relationships between TV-sales and radio-sales."
   ]
  },
  {
   "cell_type": "code",
   "execution_count": 13,
   "id": "5683ace4",
   "metadata": {
    "scrolled": false
   },
   "outputs": [
    {
     "data": {
      "text/plain": [
       "<Figure size 1440x1800 with 0 Axes>"
      ]
     },
     "metadata": {},
     "output_type": "display_data"
    },
    {
     "data": {
      "image/png": "[encoded data removed]",
      "text/plain": [
       "<Figure size 360x360 with 1 Axes>"
      ]
     },
     "metadata": {
      "needs_background": "light"
     },
     "output_type": "display_data"
    },
    {
     "data": {
      "image/png": "[encoded data removed]",
      "text/plain": [
       "<Figure size 360x360 with 1 Axes>"
      ]
     },
     "metadata": {
      "needs_background": "light"
     },
     "output_type": "display_data"
    }
   ],
   "source": [
    "plt.figure(figsize=(20,25))\n",
    "\n",
    "sns.lmplot(x = 'TV', y ='sales',data = df)\n",
    "sns.lmplot(x = 'radio', y ='sales',data = df)\n",
    "plt.tight_layout()"
   ]
  },
  {
   "cell_type": "markdown",
   "id": "d0d5980e",
   "metadata": {},
   "source": [
    "## Establishing Correlation"
   ]
  },
  {
   "cell_type": "code",
   "execution_count": 14,
   "id": "95d9b1ce",
   "metadata": {},
   "outputs": [
    {
     "data": {
      "text/html": [
       "<div>\n",
       "<style scoped>\n",
       "    .dataframe tbody tr th:only-of-type {\n",
       "        vertical-align: middle;\n",
       "    }\n",
       "\n",
       "    .dataframe tbody tr th {\n",
       "        vertical-align: top;\n",
       "    }\n",
       "\n",
       "    .dataframe thead th {\n",
       "        text-align: right;\n",
       "    }\n",
       "</style>\n",
       "<table border=\"1\" class=\"dataframe\">\n",
       "  <thead>\n",
       "    <tr style=\"text-align: right;\">\n",
       "      <th></th>\n",
       "      <th>TV</th>\n",
       "      <th>radio</th>\n",
       "      <th>newspaper</th>\n",
       "      <th>sales</th>\n",
       "    </tr>\n",
       "  </thead>\n",
       "  <tbody>\n",
       "    <tr>\n",
       "      <th>TV</th>\n",
       "      <td>1.000000</td>\n",
       "      <td>0.054809</td>\n",
       "      <td>0.056648</td>\n",
       "      <td>0.782224</td>\n",
       "    </tr>\n",
       "    <tr>\n",
       "      <th>radio</th>\n",
       "      <td>0.054809</td>\n",
       "      <td>1.000000</td>\n",
       "      <td>0.354104</td>\n",
       "      <td>0.576223</td>\n",
       "    </tr>\n",
       "    <tr>\n",
       "      <th>newspaper</th>\n",
       "      <td>0.056648</td>\n",
       "      <td>0.354104</td>\n",
       "      <td>1.000000</td>\n",
       "      <td>0.228299</td>\n",
       "    </tr>\n",
       "    <tr>\n",
       "      <th>sales</th>\n",
       "      <td>0.782224</td>\n",
       "      <td>0.576223</td>\n",
       "      <td>0.228299</td>\n",
       "      <td>1.000000</td>\n",
       "    </tr>\n",
       "  </tbody>\n",
       "</table>\n",
       "</div>"
      ],
      "text/plain": [
       "                 TV     radio  newspaper     sales\n",
       "TV         1.000000  0.054809   0.056648  0.782224\n",
       "radio      0.054809  1.000000   0.354104  0.576223\n",
       "newspaper  0.056648  0.354104   1.000000  0.228299\n",
       "sales      0.782224  0.576223   0.228299  1.000000"
      ]
     },
     "execution_count": 14,
     "metadata": {},
     "output_type": "execute_result"
    }
   ],
   "source": [
    "df_corr = df.corr()\n",
    "df_corr"
   ]
  },
  {
   "cell_type": "code",
   "execution_count": 16,
   "id": "4361106e",
   "metadata": {},
   "outputs": [
    {
     "data": {
      "image/png": "[encoded data removed]",
      "text/plain": [
       "<Figure size 360x360 with 2 Axes>"
      ]
     },
     "metadata": {
      "needs_background": "light"
     },
     "output_type": "display_data"
    }
   ],
   "source": [
    "plt.figure(figsize=(5,5))\n",
    "sns.heatmap(df_corr,annot=True,linewidth=1)\n",
    "plt.show()"
   ]
  },
  {
   "cell_type": "markdown",
   "id": "3322395a",
   "metadata": {},
   "source": [
    "**Findings:**\n",
    "1. Expenditure on \"TV\" ads has the highest correlation with \"sales\".\n",
    "2. Expenditure on \"radio\" ads has the second highest (good) correlation with \"sales\".\n",
    "3. Expenditure on \"newspaper\" ads has the lowest correlation with \"sales\" and weakly positive."
   ]
  },
  {
   "cell_type": "markdown",
   "id": "6a519340",
   "metadata": {},
   "source": [
    "## Correlation of features with label"
   ]
  },
  {
   "cell_type": "code",
   "execution_count": 17,
   "id": "adf754ed",
   "metadata": {},
   "outputs": [
    {
     "data": {
      "image/png": "[encoded data removed]",
      "text/plain": [
       "<Figure size 360x360 with 1 Axes>"
      ]
     },
     "metadata": {
      "needs_background": "light"
     },
     "output_type": "display_data"
    }
   ],
   "source": [
    "plt.figure(figsize = (5,5))\n",
    "df.corr()['sales'].sort_values(ascending = False).drop(['sales']).plot(kind='bar',color = 'r')\n",
    "plt.xlabel('Features',fontsize=10)\n",
    "plt.ylabel('Sales',fontsize=10)\n",
    "plt.title('Correlation',fontsize = 15)\n",
    "plt.show()"
   ]
  },
  {
   "cell_type": "markdown",
   "id": "a4df5b5a",
   "metadata": {},
   "source": [
    "**Findings:** All features have a positive correlation with \"sales\", with TV having the highest correlation, followed by radio and newspaper."
   ]
  },
  {
   "cell_type": "markdown",
   "id": "eb0333dd",
   "metadata": {},
   "source": [
    "## Skewness Check"
   ]
  },
  {
   "cell_type": "code",
   "execution_count": 18,
   "id": "7df32a8a",
   "metadata": {},
   "outputs": [
    {
     "data": {
      "text/plain": [
       "TV          -0.069853\n",
       "radio        0.094175\n",
       "newspaper    0.894720\n",
       "sales        0.407571\n",
       "dtype: float64"
      ]
     },
     "execution_count": 18,
     "metadata": {},
     "output_type": "execute_result"
    }
   ],
   "source": [
    "df.skew()"
   ]
  },
  {
   "cell_type": "markdown",
   "id": "d2e3e0f4",
   "metadata": {},
   "source": [
    "**Finding:** It appears the data distribution in \"newspaper\" is skewed."
   ]
  },
  {
   "cell_type": "code",
   "execution_count": 22,
   "id": "c04bdc97",
   "metadata": {},
   "outputs": [
    {
     "data": {
      "text/plain": [
       "<AxesSubplot:xlabel='newspaper', ylabel='Density'>"
      ]
     },
     "execution_count": 22,
     "metadata": {},
     "output_type": "execute_result"
    },
    {
     "data": {
      "image/png": "[encoded data removed]",
      "text/plain": [
       "<Figure size 432x288 with 1 Axes>"
      ]
     },
     "metadata": {
      "needs_background": "light"
     },
     "output_type": "display_data"
    }
   ],
   "source": [
    "sns.distplot(df['newspaper'])"
   ]
  },
  {
   "cell_type": "markdown",
   "id": "d8032480",
   "metadata": {},
   "source": [
    "**Finding:** It appears the data distribution in \"newspaper\" is right skewed or positively skewed."
   ]
  },
  {
   "cell_type": "markdown",
   "id": "12b6e19c",
   "metadata": {},
   "source": [
    "## Outliers Check"
   ]
  },
  {
   "cell_type": "code",
   "execution_count": 24,
   "id": "d985e006",
   "metadata": {},
   "outputs": [
    {
     "data": {
      "image/png": "[encoded data removed]",
      "text/plain": [
       "<Figure size 1080x1080 with 3 Axes>"
      ]
     },
     "metadata": {
      "needs_background": "light"
     },
     "output_type": "display_data"
    }
   ],
   "source": [
    "plt.figure(figsize=(15,15))\n",
    "plotnum=1\n",
    "\n",
    "for col in X:\n",
    "    if plotnum<=8:\n",
    "        plt.subplot(4,4,plotnum)\n",
    "        sns.boxplot(X[col])\n",
    "        plt.xlabel(col,fontsize=15)\n",
    "        \n",
    "    plotnum+=1\n",
    "plt.tight_layout()"
   ]
  },
  {
   "cell_type": "markdown",
   "id": "f030bf18",
   "metadata": {},
   "source": [
    "**Finding:** \"newspaper\" has some outliers, which may be removed using the IQR / z score method."
   ]
  },
  {
   "cell_type": "markdown",
   "id": "fbbbd1cf",
   "metadata": {},
   "source": [
    "#### IQR"
   ]
  },
  {
   "cell_type": "code",
   "execution_count": 25,
   "id": "4e501bc2",
   "metadata": {},
   "outputs": [],
   "source": [
    "df2 = df.copy()"
   ]
  },
  {
   "cell_type": "code",
   "execution_count": 26,
   "id": "995f3808",
   "metadata": {},
   "outputs": [],
   "source": [
    "index_drop = np.array([])\n",
    "\n",
    "q1 = df2['newspaper'].quantile(0.25)\n",
    "q3 = df2['newspaper'].quantile(0.75)\n",
    "iqr = q3-q1\n",
    "upper_value = q3 + (1.5*iqr)\n",
    "lower_value = q1 - (1.5*iqr)\n",
    "col =  df2['newspaper']\n",
    "indx = col[(col > upper_value) | (col < lower_value)].index\n",
    "index_drop = np.append(index_drop, indx)"
   ]
  },
  {
   "cell_type": "code",
   "execution_count": 27,
   "id": "3e8ebdb2",
   "metadata": {},
   "outputs": [
    {
     "data": {
      "text/plain": [
       "array([ 16., 101.])"
      ]
     },
     "execution_count": 27,
     "metadata": {},
     "output_type": "execute_result"
    }
   ],
   "source": [
    "index_drop"
   ]
  },
  {
   "cell_type": "code",
   "execution_count": 28,
   "id": "a73a055b",
   "metadata": {},
   "outputs": [],
   "source": [
    "df2 = df2.drop(indx)"
   ]
  },
  {
   "cell_type": "code",
   "execution_count": 29,
   "id": "a7643cdd",
   "metadata": {},
   "outputs": [
    {
     "data": {
      "image/png": "[encoded data removed]",
      "text/plain": [
       "<Figure size 504x504 with 1 Axes>"
      ]
     },
     "metadata": {
      "needs_background": "light"
     },
     "output_type": "display_data"
    }
   ],
   "source": [
    "df2.boxplot(figsize=[7,7])\n",
    "plt.show()"
   ]
  },
  {
   "cell_type": "code",
   "execution_count": 30,
   "id": "af80f9af",
   "metadata": {},
   "outputs": [
    {
     "data": {
      "text/plain": [
       "(198, 4)"
      ]
     },
     "execution_count": 30,
     "metadata": {},
     "output_type": "execute_result"
    }
   ],
   "source": [
    "df2.shape"
   ]
  },
  {
   "cell_type": "code",
   "execution_count": 31,
   "id": "ae980c18",
   "metadata": {},
   "outputs": [
    {
     "data": {
      "text/plain": [
       "(200, 4)"
      ]
     },
     "execution_count": 31,
     "metadata": {},
     "output_type": "execute_result"
    }
   ],
   "source": [
    "df.shape"
   ]
  },
  {
   "cell_type": "code",
   "execution_count": 32,
   "id": "758e1c2b",
   "metadata": {},
   "outputs": [
    {
     "data": {
      "text/plain": [
       "1.0"
      ]
     },
     "execution_count": 32,
     "metadata": {},
     "output_type": "execute_result"
    }
   ],
   "source": [
    "# data loss\n",
    "loss=(200-198)/200 * 100\n",
    "loss"
   ]
  },
  {
   "cell_type": "markdown",
   "id": "20c2f725",
   "metadata": {},
   "source": [
    "#### Z score"
   ]
  },
  {
   "cell_type": "code",
   "execution_count": 33,
   "id": "016483dd",
   "metadata": {},
   "outputs": [],
   "source": [
    "df3 = df.copy()"
   ]
  },
  {
   "cell_type": "code",
   "execution_count": 34,
   "id": "879ee6bc",
   "metadata": {},
   "outputs": [],
   "source": [
    "zscor = zscore(df3)\n",
    "z_score_abs = np.abs(zscor)\n",
    "\n",
    "df4 = df3[(z_score_abs < 3).all(axis=1)]"
   ]
  },
  {
   "cell_type": "code",
   "execution_count": 35,
   "id": "c1e5c217",
   "metadata": {},
   "outputs": [
    {
     "data": {
      "text/plain": [
       "(198, 4)"
      ]
     },
     "execution_count": 35,
     "metadata": {},
     "output_type": "execute_result"
    }
   ],
   "source": [
    "df4.shape"
   ]
  },
  {
   "cell_type": "code",
   "execution_count": 36,
   "id": "2b4b9522",
   "metadata": {},
   "outputs": [
    {
     "data": {
      "text/plain": [
       "1.0"
      ]
     },
     "execution_count": 36,
     "metadata": {},
     "output_type": "execute_result"
    }
   ],
   "source": [
    "# data loss\n",
    "loss=(200-198)/200 * 100\n",
    "loss"
   ]
  },
  {
   "cell_type": "code",
   "execution_count": 37,
   "id": "cdda9d5e",
   "metadata": {},
   "outputs": [],
   "source": [
    "df = df2.copy()"
   ]
  },
  {
   "cell_type": "code",
   "execution_count": 38,
   "id": "49fa08df",
   "metadata": {},
   "outputs": [
    {
     "data": {
      "text/plain": [
       "(198, 4)"
      ]
     },
     "execution_count": 38,
     "metadata": {},
     "output_type": "execute_result"
    }
   ],
   "source": [
    "df.shape"
   ]
  },
  {
   "cell_type": "code",
   "execution_count": 39,
   "id": "2c8cc8d4",
   "metadata": {},
   "outputs": [
    {
     "data": {
      "text/plain": [
       "TV          -0.082332\n",
       "radio        0.114842\n",
       "newspaper    0.650112\n",
       "sales        0.407130\n",
       "dtype: float64"
      ]
     },
     "execution_count": 39,
     "metadata": {},
     "output_type": "execute_result"
    }
   ],
   "source": [
    "df.skew()"
   ]
  },
  {
   "cell_type": "code",
   "execution_count": 41,
   "id": "1d852dbf",
   "metadata": {},
   "outputs": [
    {
     "data": {
      "image/png": "[encoded data removed]",
      "text/plain": [
       "<Figure size 1080x1080 with 4 Axes>"
      ]
     },
     "metadata": {
      "needs_background": "light"
     },
     "output_type": "display_data"
    }
   ],
   "source": [
    "plt.figure(figsize=(15,15))\n",
    "plotnum=1\n",
    "for col in df:\n",
    "    if plotnum<=10:\n",
    "        plt.subplot(4,4,plotnum)\n",
    "        sns.distplot(df[col])\n",
    "        plt.xlabel(col,fontsize=12)\n",
    "    plotnum+=1\n",
    "plt.show()"
   ]
  },
  {
   "cell_type": "markdown",
   "id": "8eb657c4",
   "metadata": {},
   "source": [
    "Skewness has been removed to some extent."
   ]
  },
  {
   "cell_type": "markdown",
   "id": "3d03f2b7",
   "metadata": {},
   "source": [
    "## Normalizing data distribution (using Power Transformer)"
   ]
  },
  {
   "cell_type": "code",
   "execution_count": 43,
   "id": "f995ed3d",
   "metadata": {},
   "outputs": [],
   "source": [
    "pt = PowerTransformer(method='yeo-johnson', standardize=True)"
   ]
  },
  {
   "cell_type": "code",
   "execution_count": 44,
   "id": "16762001",
   "metadata": {},
   "outputs": [],
   "source": [
    "skew = ['newspaper']"
   ]
  },
  {
   "cell_type": "code",
   "execution_count": 45,
   "id": "2a337a7d",
   "metadata": {},
   "outputs": [],
   "source": [
    "df5 = df[skew]"
   ]
  },
  {
   "cell_type": "code",
   "execution_count": 46,
   "id": "1ae359ec",
   "metadata": {},
   "outputs": [
    {
     "data": {
      "text/html": [
       "<div>\n",
       "<style scoped>\n",
       "    .dataframe tbody tr th:only-of-type {\n",
       "        vertical-align: middle;\n",
       "    }\n",
       "\n",
       "    .dataframe tbody tr th {\n",
       "        vertical-align: top;\n",
       "    }\n",
       "\n",
       "    .dataframe thead th {\n",
       "        text-align: right;\n",
       "    }\n",
       "</style>\n",
       "<table border=\"1\" class=\"dataframe\">\n",
       "  <thead>\n",
       "    <tr style=\"text-align: right;\">\n",
       "      <th></th>\n",
       "      <th>newspaper</th>\n",
       "    </tr>\n",
       "  </thead>\n",
       "  <tbody>\n",
       "    <tr>\n",
       "      <th>0</th>\n",
       "      <td>69.2</td>\n",
       "    </tr>\n",
       "    <tr>\n",
       "      <th>1</th>\n",
       "      <td>45.1</td>\n",
       "    </tr>\n",
       "    <tr>\n",
       "      <th>2</th>\n",
       "      <td>69.3</td>\n",
       "    </tr>\n",
       "    <tr>\n",
       "      <th>3</th>\n",
       "      <td>58.5</td>\n",
       "    </tr>\n",
       "    <tr>\n",
       "      <th>4</th>\n",
       "      <td>58.4</td>\n",
       "    </tr>\n",
       "    <tr>\n",
       "      <th>...</th>\n",
       "      <td>...</td>\n",
       "    </tr>\n",
       "    <tr>\n",
       "      <th>195</th>\n",
       "      <td>13.8</td>\n",
       "    </tr>\n",
       "    <tr>\n",
       "      <th>196</th>\n",
       "      <td>8.1</td>\n",
       "    </tr>\n",
       "    <tr>\n",
       "      <th>197</th>\n",
       "      <td>6.4</td>\n",
       "    </tr>\n",
       "    <tr>\n",
       "      <th>198</th>\n",
       "      <td>66.2</td>\n",
       "    </tr>\n",
       "    <tr>\n",
       "      <th>199</th>\n",
       "      <td>8.7</td>\n",
       "    </tr>\n",
       "  </tbody>\n",
       "</table>\n",
       "<p>198 rows × 1 columns</p>\n",
       "</div>"
      ],
      "text/plain": [
       "     newspaper\n",
       "0         69.2\n",
       "1         45.1\n",
       "2         69.3\n",
       "3         58.5\n",
       "4         58.4\n",
       "..         ...\n",
       "195       13.8\n",
       "196        8.1\n",
       "197        6.4\n",
       "198       66.2\n",
       "199        8.7\n",
       "\n",
       "[198 rows x 1 columns]"
      ]
     },
     "execution_count": 46,
     "metadata": {},
     "output_type": "execute_result"
    }
   ],
   "source": [
    "df5"
   ]
  },
  {
   "cell_type": "code",
   "execution_count": 47,
   "id": "80873b91",
   "metadata": {},
   "outputs": [],
   "source": [
    "trans = pt.fit_transform(df5)"
   ]
  },
  {
   "cell_type": "code",
   "execution_count": 48,
   "id": "0aed7d93",
   "metadata": {},
   "outputs": [
    {
     "data": {
      "text/plain": [
       "numpy.ndarray"
      ]
     },
     "execution_count": 48,
     "metadata": {},
     "output_type": "execute_result"
    }
   ],
   "source": [
    "type(trans)"
   ]
  },
  {
   "cell_type": "code",
   "execution_count": 49,
   "id": "53150fd0",
   "metadata": {},
   "outputs": [],
   "source": [
    "# converting array into dataframe\n",
    "trans = pd.DataFrame(trans, columns=df5.columns)"
   ]
  },
  {
   "cell_type": "code",
   "execution_count": 50,
   "id": "9f35fb54",
   "metadata": {},
   "outputs": [
    {
     "data": {
      "text/plain": [
       "newspaper    0\n",
       "dtype: int64"
      ]
     },
     "execution_count": 50,
     "metadata": {},
     "output_type": "execute_result"
    }
   ],
   "source": [
    "trans.isnull().sum()"
   ]
  },
  {
   "cell_type": "code",
   "execution_count": 51,
   "id": "b9a87fc9",
   "metadata": {},
   "outputs": [
    {
     "data": {
      "text/plain": [
       "newspaper   -0.101288\n",
       "dtype: float64"
      ]
     },
     "execution_count": 51,
     "metadata": {},
     "output_type": "execute_result"
    }
   ],
   "source": [
    "trans.skew()"
   ]
  },
  {
   "cell_type": "code",
   "execution_count": 52,
   "id": "3ac7c24b",
   "metadata": {},
   "outputs": [],
   "source": [
    "trans.index = df.index"
   ]
  },
  {
   "cell_type": "code",
   "execution_count": 53,
   "id": "637053bb",
   "metadata": {},
   "outputs": [],
   "source": [
    "df[skew] = trans[skew]"
   ]
  },
  {
   "cell_type": "code",
   "execution_count": 54,
   "id": "58c827b3",
   "metadata": {},
   "outputs": [
    {
     "data": {
      "text/plain": [
       "TV          -0.082332\n",
       "radio        0.114842\n",
       "newspaper   -0.101288\n",
       "sales        0.407130\n",
       "dtype: float64"
      ]
     },
     "execution_count": 54,
     "metadata": {},
     "output_type": "execute_result"
    }
   ],
   "source": [
    "df.skew()"
   ]
  },
  {
   "cell_type": "code",
   "execution_count": 55,
   "id": "e0e7c4eb",
   "metadata": {},
   "outputs": [
    {
     "data": {
      "image/png": "[encoded data removed]",
      "text/plain": [
       "<Figure size 1080x1080 with 4 Axes>"
      ]
     },
     "metadata": {
      "needs_background": "light"
     },
     "output_type": "display_data"
    }
   ],
   "source": [
    "plt.figure(figsize=(15,15))\n",
    "plotnum=1\n",
    "for col in df:\n",
    "    if plotnum<=10:\n",
    "        plt.subplot(4,4,plotnum)\n",
    "        sns.distplot(df[col])\n",
    "        plt.xlabel(col,fontsize=20)\n",
    "    plotnum+=1\n",
    "plt.show()"
   ]
  },
  {
   "cell_type": "markdown",
   "id": "f9bc4683",
   "metadata": {},
   "source": [
    "**Result:** Data Distributions have been normalized."
   ]
  },
  {
   "cell_type": "markdown",
   "id": "ab9198f7",
   "metadata": {},
   "source": [
    "## Splitting Dataset into features and label"
   ]
  },
  {
   "cell_type": "code",
   "execution_count": 56,
   "id": "91e12860",
   "metadata": {},
   "outputs": [],
   "source": [
    "X = df.drop(columns = 'sales')\n",
    "y = df['sales']"
   ]
  },
  {
   "cell_type": "markdown",
   "id": "4baa1681",
   "metadata": {},
   "source": [
    "## Feature Selection"
   ]
  },
  {
   "cell_type": "code",
   "execution_count": 57,
   "id": "22220e38",
   "metadata": {},
   "outputs": [],
   "source": [
    "scaler= StandardScaler()\n",
    "scaled_X = scaler.fit_transform(X)"
   ]
  },
  {
   "cell_type": "code",
   "execution_count": 58,
   "id": "aa64da61",
   "metadata": {
    "scrolled": true
   },
   "outputs": [
    {
     "data": {
      "text/plain": [
       "array([[ 0.97869734,  0.98952135,  1.6041965 ],\n",
       "       [-1.19901165,  1.09070498,  0.83104401],\n",
       "       [-1.51933199,  1.53591293,  1.60705249],\n",
       "       [ 0.05645636,  1.22561648,  1.28376774],\n",
       "       [ 0.40024339, -0.83178391,  1.28062154],\n",
       "       [-1.61906543,  1.73828018,  1.76610727],\n",
       "       [-1.04647815,  0.6522426 , -0.10205346],\n",
       "       [-0.31079737, -0.23817331, -0.84968895],\n",
       "       [-1.62023876, -1.41864895, -2.09866461],\n",
       "       [ 0.62317696, -1.38492107, -0.22649933],\n",
       "       [-0.94557138, -1.16906267, -0.06553382],\n",
       "       [ 0.79800381,  0.05863199, -1.59608414],\n",
       "       [-1.44189191,  0.80739083,  1.50859232],\n",
       "       [-0.57714432, -1.04764232, -1.23269654],\n",
       "       [ 0.67363035,  0.65898817,  0.86367455],\n",
       "       [ 0.57155024,  1.65733328,  1.1026083 ],\n",
       "       [ 1.58061798,  1.1109417 ,  1.19771741],\n",
       "       [-0.90919801, -0.17746313, -0.39458775],\n",
       "       [ 0.0071763 ,  0.05188642, -0.346834  ],\n",
       "       [ 0.84141719,  0.30821827,  1.11921444],\n",
       "       [ 1.06435076, -1.21628169, -0.10205346],\n",
       "       [-1.56626537, -0.48775959,  0.99069777],\n",
       "       [ 0.95757732, -0.42030384,  0.0356758 ],\n",
       "       [-0.99015809, -0.71036356, -0.39458775],\n",
       "       [ 1.36355108, -1.32421089, -0.32336998],\n",
       "       [-0.04445042,  0.41614747, -0.7740548 ],\n",
       "       [ 1.0960308 , -0.43379499, -0.13384051],\n",
       "       [ 1.19811091,  0.26774482, -0.13384051],\n",
       "       [-0.89277132, -0.48101401,  0.66980347],\n",
       "       [ 1.71555146,  0.34869172,  0.76092313],\n",
       "       [-0.39645079, -0.38657596,  0.58357284],\n",
       "       [-0.58066432, -1.4591224 ,  0.21669702],\n",
       "       [ 1.39523112, -0.21119101, -2.2758464 ],\n",
       "       [-0.59826434, -1.46586797, -1.21299201],\n",
       "       [ 1.6897381 , -1.28373744, -1.10919482],\n",
       "       [ 1.41048447,  1.39425586, -1.4708598 ],\n",
       "       [-0.8446646 ,  1.77200806,  0.85283827],\n",
       "       [-1.21543833,  0.24076252,  0.44045973],\n",
       "       [ 0.95405731,  0.98277578,  0.30682057],\n",
       "       [ 0.65485699, -0.05604278,  0.28905461],\n",
       "       [ 0.35565668,  0.69271605,  0.58755182],\n",
       "       [ 1.7237648 ,  0.30821827, -1.93614969],\n",
       "       [ 0.70648372, -0.99367772,  0.04555612],\n",
       "       [-1.42663856,  0.17330677,  0.76465678],\n",
       "       [ 0.33336332, -0.04255163,  0.2845934 ],\n",
       "       [-0.66866442, -0.89249409,  0.46554742],\n",
       "       [ 1.09368413,  1.23910763, -0.38254334],\n",
       "       [ 0.94467064, -0.49450516,  1.00104316],\n",
       "       [-0.9361847 , -0.77107374,  0.51093113],\n",
       "       [ 0.62317696, -1.35119319,  0.41936802],\n",
       "       [-0.54311762, -0.91273082, -1.65023317],\n",
       "       [ 0.8179505 ,  1.25259878,  0.62310406],\n",
       "       [ 0.42136341,  1.55614966,  1.29005095],\n",
       "       [ 1.36120441,  0.3824196 , -0.54515187],\n",
       "       [ 0.61261695,  1.77200806,  1.33059751],\n",
       "       [-1.63549211,  0.33520057,  0.6928619 ],\n",
       "       [-0.12306383, -0.26515561, -0.50002298],\n",
       "       [ 0.75224376,  1.78549921,  0.54749686],\n",
       "       [ 0.75107043,  0.42963862, -1.03801781],\n",
       "       [-1.09341154, -1.42539452, -0.21538949],\n",
       "       [ 1.34477773,  1.32005453,  1.16198054],\n",
       "       [ 1.08664412, -0.51474189,  0.08950799],\n",
       "       [-0.51613092,  0.4363842 , -1.11833294],\n",
       "       [-0.1829039 ,  1.32680011,  0.16568658],\n",
       "       [-0.91154467, -0.93296754, -2.12148202],\n",
       "       [-1.35154514,  0.09910544, -1.86501   ],\n",
       "       [-0.08669046, -0.58219764, -0.96167639],\n",
       "       [ 1.06435076,  0.29472712, -0.89675177],\n",
       "       [ 0.82264384,  1.40100143,  0.08466485],\n",
       "       [ 0.61496362,  0.50383995,  0.58755182],\n",
       "       [-0.43282416, -0.59568879,  0.29350789],\n",
       "       [-1.40669187,  0.66573375, -0.33506848],\n",
       "       [-0.20285059, -1.17580824,  0.27564704],\n",
       "       [ 0.78275046,  0.09910544, -0.73744518],\n",
       "       [-1.52285199,  1.38751028,  2.13937255],\n",
       "       [-1.39847853, -1.45237682, -0.25453031],\n",
       "       [-0.30727736,  0.36218287, -0.65947105],\n",
       "       [-1.65778547,  0.45662092, -1.02934918],\n",
       "       [-0.36007742, -1.04089674, -0.12319395],\n",
       "       [-0.82471792,  0.24076252, -0.16609367],\n",
       "       [ 1.09251079, -1.28373744,  0.51501874],\n",
       "       [-0.8376246 , -0.19095428,  0.32885333],\n",
       "       [-0.91858468,  1.44147488,  0.46138274],\n",
       "       [ 0.7839238 ,  1.34029126,  0.38526098],\n",
       "       [ 0.54573688, -0.31912021,  1.50271112],\n",
       "       [-0.82589125,  0.29472712, -0.53863938],\n",
       "       [-0.42226415,  1.17839745,  1.42831665],\n",
       "       [-0.6850911 ,  0.15981562,  1.72217946],\n",
       "       [-0.43282416,  1.66407886,  1.05224719],\n",
       "       [-0.14535719, -1.22977284, -1.03801781],\n",
       "       [-1.38557185, -1.4591224 ,  0.35069626],\n",
       "       [ 0.83320385,  0.69946162,  1.29945293],\n",
       "       [ 1.22275093,  0.90182888,  1.69166052],\n",
       "       [-0.46098419, -0.61592551, -0.90472726],\n",
       "       [ 0.19490984,  0.5712957 ,  1.1026083 ],\n",
       "       [ 0.5973636 , -1.32421089, -1.36815587],\n",
       "       [ 0.44835011, -0.14373526, -0.18240095],\n",
       "       [ 1.67800475,  1.29307223,  1.04546953],\n",
       "       [-0.13479718,  1.25259878,  0.86006693],\n",
       "       [ 0.88835058, -1.27024629,  0.99759864],\n",
       "       [ 1.56653796, -0.87900294, -0.21538949],\n",
       "       [ 0.48355014, -0.40006711, -0.41889554],\n",
       "       [ 1.07373744,  0.75342622, -1.43568966],\n",
       "       [-0.10311715,  1.56964081,  1.29945293],\n",
       "       [-1.42781189, -0.81829276,  0.20289058],\n",
       "       [-0.66045107, -1.5400693 , -0.11788987],\n",
       "       [-1.56743871, -1.53332372,  0.00577961],\n",
       "       [ 1.27555099,  0.25425367, -1.41277956],\n",
       "       [ 0.92824395, -1.00716887,  1.22025052],\n",
       "       [ 1.11480415,  1.0030125 , -0.11788987],\n",
       "       [ 0.34040333, -0.52148746, -1.83137048],\n",
       "       [ 0.73816375, -0.17071756, -0.9207956 ],\n",
       "       [-0.80359789,  1.59662311,  0.41512911],\n",
       "       [-0.83997127,  0.80064525,  1.09594084],\n",
       "       [-0.0878638 , -0.59568879,  0.00577961],\n",
       "       [-0.82471792, -1.50634142, -0.61831443],\n",
       "       [-0.24626397,  0.92881118,  1.87892616],\n",
       "       [-1.49351863, -0.48101401, -0.16609367],\n",
       "       [-0.06322377,  0.2475081 ,  0.87087647],\n",
       "       [-1.50055864, -0.09651623,  1.01820721],\n",
       "       [ 0.90712393, -1.39841222, -0.56482448],\n",
       "       [-0.27677067,  0.77366295, -0.78891695],\n",
       "       [ 0.97165733,  0.61851472,  1.7442111 ],\n",
       "       [-0.69799778, -0.76432816,  0.02077604],\n",
       "       [-1.62962544,  1.06372268,  1.02504572],\n",
       "       [-0.7801312 , -1.56030602, -1.04673537],\n",
       "       [ 0.86371055,  1.74502576, -1.70718676],\n",
       "       [-1.02183813, -0.75083701,  0.75718457],\n",
       "       [-1.7129322 ,  1.1109417 , -1.09108448],\n",
       "       [ 1.39053778, -1.36468434,  0.7534411 ],\n",
       "       [-1.62258543,  0.2744904 , -1.88228781],\n",
       "       [ 0.85784388,  0.69946162,  0.83104401],\n",
       "       [-1.28818508,  1.04348595,  1.49976669],\n",
       "       [-1.15442493,  1.61011426, -1.10919482],\n",
       "       [-1.42077188,  1.07046825, -1.03801781],\n",
       "       [ 1.49027122,  0.38916517,  1.32128542],\n",
       "       [-1.21661167,  0.18679792, -0.2658475 ],\n",
       "       [ 0.44835011,  1.40100143, -1.95484304],\n",
       "       [-0.85991795, -0.41355826, -0.75199725],\n",
       "       [ 0.55160355,  0.82762755,  1.78244184],\n",
       "       [ 0.86605722,  0.6792249 ,  0.55555544],\n",
       "       [-0.49383756, -1.17580824,  0.41088327],\n",
       "       [-0.59239767, -0.56196091,  0.59549238],\n",
       "       [-0.07495712, -1.4321401 , -1.06432036],\n",
       "       [ 1.0960308 , -1.06787904, -1.09108448],\n",
       "       [ 1.13240417,  1.74502576,  0.80172759],\n",
       "       [-1.2752784 ,  1.15816073, -0.82664429],\n",
       "       [-1.19666498,  0.18005234, -0.26018131],\n",
       "       [ 1.57240464, -0.62267109,  0.51910011],\n",
       "       [-0.30141069, -0.99367772,  0.95944652],\n",
       "       [ 0.5973636 ,  0.01141297, -0.65947105],\n",
       "       [ 0.2887766 ,  1.11768728,  0.54749686],\n",
       "       [ 0.48237681, -0.13698968, -1.02072873],\n",
       "       [-1.67303882, -0.77781931, -1.39027462],\n",
       "       [-0.61938436,  1.37401913,  1.02162839],\n",
       "       [ 0.03650967, -1.47261355, -0.06036496],\n",
       "       [-1.58386539,  0.92881118,  0.83468776],\n",
       "       [-0.17586389, -0.31912021,  0.41936802],\n",
       "       [ 0.30285662, -0.33935694,  0.24861364],\n",
       "       [-0.7155978 ,  0.85460985,  0.98031676],\n",
       "       [ 0.48941682, -0.33935694,  0.00577961],\n",
       "       [ 0.19725651,  0.9220656 , -1.21299201],\n",
       "       [-0.34599741, -0.56870649, -1.42418272],\n",
       "       [ 1.03032406, -1.33095647,  2.02414625],\n",
       "       [-1.51111865,  0.9760302 , -0.20433701],\n",
       "       [ 0.70531038, -1.20953612, -0.32921092],\n",
       "       [ 0.80621716,  0.03164969,  1.25534066],\n",
       "       [ 1.61464468, -0.84527507, -1.31443661],\n",
       "       [-1.13447825, -0.77781931, -0.38855655],\n",
       "       [ 0.20898985, -0.15048083,  0.91372099],\n",
       "       [-1.49117196, -0.20444543, -0.47470116],\n",
       "       [ 0.2547499 , -1.08137019, -0.75931882],\n",
       "       [ 0.88835058, -1.33095647, -0.73744518],\n",
       "       [ 1.52781792,  1.73828018,  0.70812926],\n",
       "       [ 1.19341757,  0.47685765, -0.27722588],\n",
       "       [ 0.27586992, -1.03415117,  0.44465771],\n",
       "       [ 1.52547125, -1.4051578 , -0.09155822],\n",
       "       [ 0.22189653, -0.88574852, -0.43732278],\n",
       "       [ 0.11629642, -1.38492107, -1.12752759],\n",
       "       [ 0.84259053, -1.19604497,  0.09434122],\n",
       "       [-1.0617315 , -1.17580824,  0.20289058],\n",
       "       [ 1.65336472,  1.34029126,  1.67770049],\n",
       "       [ 1.25677764, -0.12349853,  0.21669702],\n",
       "       [ 0.68419036,  1.48194833, -0.31754553],\n",
       "       [-0.08434379, -1.41864895,  0.05539471],\n",
       "       [ 0.52109685,  0.37567402, -0.40063711],\n",
       "       [ 1.63459137, -0.62267109, -1.63644784],\n",
       "       [-1.50173197, -0.74409144, -0.1073197 ],\n",
       "       [-1.25767838,  1.21212533, -1.3791681 ],\n",
       "       [-0.83527793, -0.83178391, -1.3572358 ],\n",
       "       [-1.51933199, -1.28373744,  0.28905461],\n",
       "       [ 0.23597655,  1.2728355 , -1.65023317],\n",
       "       [ 0.03533633,  0.8411187 , -1.3572358 ],\n",
       "       [-1.27293173, -1.31071974, -0.68743455],\n",
       "       [-0.61586436, -1.22977284, -1.14609038],\n",
       "       [ 0.35565668, -0.93296754, -1.31443661],\n",
       "       [ 1.60643134,  1.2728355 ,  1.51739504],\n",
       "       [ 1.00216403, -0.98018657, -1.09108448]])"
      ]
     },
     "execution_count": 58,
     "metadata": {},
     "output_type": "execute_result"
    }
   ],
   "source": [
    "scaled_X"
   ]
  },
  {
   "cell_type": "markdown",
   "id": "cb155403",
   "metadata": {},
   "source": [
    "## Multicollinearity Check using VIF"
   ]
  },
  {
   "cell_type": "code",
   "execution_count": 59,
   "id": "0404254d",
   "metadata": {},
   "outputs": [],
   "source": [
    "vif = pd.DataFrame()"
   ]
  },
  {
   "cell_type": "code",
   "execution_count": 60,
   "id": "28fb9da5",
   "metadata": {},
   "outputs": [],
   "source": [
    "vif[\"Features\"] = X.columns\n",
    "vif['vif'] = [variance_inflation_factor(scaled_X,i) for i in range(scaled_X.shape[1])]"
   ]
  },
  {
   "cell_type": "code",
   "execution_count": 61,
   "id": "4e6d2fb5",
   "metadata": {},
   "outputs": [
    {
     "data": {
      "text/html": [
       "<div>\n",
       "<style scoped>\n",
       "    .dataframe tbody tr th:only-of-type {\n",
       "        vertical-align: middle;\n",
       "    }\n",
       "\n",
       "    .dataframe tbody tr th {\n",
       "        vertical-align: top;\n",
       "    }\n",
       "\n",
       "    .dataframe thead th {\n",
       "        text-align: right;\n",
       "    }\n",
       "</style>\n",
       "<table border=\"1\" class=\"dataframe\">\n",
       "  <thead>\n",
       "    <tr style=\"text-align: right;\">\n",
       "      <th></th>\n",
       "      <th>Features</th>\n",
       "      <th>vif</th>\n",
       "    </tr>\n",
       "  </thead>\n",
       "  <tbody>\n",
       "    <tr>\n",
       "      <th>0</th>\n",
       "      <td>TV</td>\n",
       "      <td>1.003286</td>\n",
       "    </tr>\n",
       "    <tr>\n",
       "      <th>1</th>\n",
       "      <td>radio</td>\n",
       "      <td>1.098426</td>\n",
       "    </tr>\n",
       "    <tr>\n",
       "      <th>2</th>\n",
       "      <td>newspaper</td>\n",
       "      <td>1.097067</td>\n",
       "    </tr>\n",
       "  </tbody>\n",
       "</table>\n",
       "</div>"
      ],
      "text/plain": [
       "    Features       vif\n",
       "0         TV  1.003286\n",
       "1      radio  1.098426\n",
       "2  newspaper  1.097067"
      ]
     },
     "execution_count": 61,
     "metadata": {},
     "output_type": "execute_result"
    }
   ],
   "source": [
    "vif"
   ]
  },
  {
   "cell_type": "markdown",
   "id": "186934c3",
   "metadata": {},
   "source": [
    "**Finding:** There appears to be no multicollinearity in the dataset features."
   ]
  },
  {
   "cell_type": "markdown",
   "id": "1cd5d7d3",
   "metadata": {},
   "source": [
    "## Selecting K Best Features"
   ]
  },
  {
   "cell_type": "code",
   "execution_count": 62,
   "id": "327b8e7a",
   "metadata": {},
   "outputs": [],
   "source": [
    "best_features = SelectKBest(score_func = f_classif, k = 3)\n",
    "fit = best_features.fit(X,y)\n",
    "dfscores = pd.DataFrame(fit.scores_)\n",
    "dfcolumns = pd.DataFrame(X.columns)"
   ]
  },
  {
   "cell_type": "code",
   "execution_count": 63,
   "id": "ee5ec78b",
   "metadata": {},
   "outputs": [
    {
     "name": "stdout",
     "output_type": "stream",
     "text": [
      "     Feature     Score\n",
      "0         TV  3.672431\n",
      "1      radio  1.717044\n",
      "2  newspaper  1.259850\n"
     ]
    }
   ],
   "source": [
    "fit = best_features.fit(X,y)\n",
    "dfscores = pd.DataFrame(fit.scores_)\n",
    "dfcolumns = pd.DataFrame(X.columns)\n",
    "dfcolumns.head()\n",
    "featureScores = pd.concat([dfcolumns,dfscores],axis = 1)\n",
    "featureScores.columns = ['Feature', 'Score']\n",
    "print(featureScores.nlargest(10,'Score'))"
   ]
  },
  {
   "cell_type": "markdown",
   "id": "0e4e5c38",
   "metadata": {},
   "source": [
    "## Model Building - `Regression Models`"
   ]
  },
  {
   "cell_type": "code",
   "execution_count": 64,
   "id": "5f3082d6",
   "metadata": {},
   "outputs": [],
   "source": [
    "x_train,x_test,y_train,y_test = train_test_split(scaled_X,y,test_size = .25, random_state = 1)"
   ]
  },
  {
   "cell_type": "code",
   "execution_count": 65,
   "id": "23e601c6",
   "metadata": {},
   "outputs": [],
   "source": [
    "lr = LinearRegression()\n",
    "rf = RandomForestRegressor()\n",
    "svr = SVR()\n",
    "ridge = Ridge()\n",
    "lasso = Lasso()"
   ]
  },
  {
   "cell_type": "markdown",
   "id": "b24ea1df",
   "metadata": {},
   "source": [
    "#### `Training the models`"
   ]
  },
  {
   "cell_type": "code",
   "execution_count": 66,
   "id": "58ef94cc",
   "metadata": {},
   "outputs": [
    {
     "data": {
      "text/plain": [
       "LinearRegression()"
      ]
     },
     "execution_count": 66,
     "metadata": {},
     "output_type": "execute_result"
    }
   ],
   "source": [
    "lr.fit(x_train,y_train)"
   ]
  },
  {
   "cell_type": "code",
   "execution_count": 67,
   "id": "69cd9b29",
   "metadata": {},
   "outputs": [
    {
     "data": {
      "text/plain": [
       "RandomForestRegressor()"
      ]
     },
     "execution_count": 67,
     "metadata": {},
     "output_type": "execute_result"
    }
   ],
   "source": [
    "rf.fit(x_train,y_train)"
   ]
  },
  {
   "cell_type": "code",
   "execution_count": 68,
   "id": "e465e532",
   "metadata": {},
   "outputs": [
    {
     "data": {
      "text/plain": [
       "SVR()"
      ]
     },
     "execution_count": 68,
     "metadata": {},
     "output_type": "execute_result"
    }
   ],
   "source": [
    "svr.fit(x_train,y_train)"
   ]
  },
  {
   "cell_type": "code",
   "execution_count": 69,
   "id": "b49917f1",
   "metadata": {},
   "outputs": [
    {
     "data": {
      "text/plain": [
       "Ridge()"
      ]
     },
     "execution_count": 69,
     "metadata": {},
     "output_type": "execute_result"
    }
   ],
   "source": [
    "ridge.fit(x_train,y_train)"
   ]
  },
  {
   "cell_type": "code",
   "execution_count": 70,
   "id": "5ca2d638",
   "metadata": {},
   "outputs": [
    {
     "data": {
      "text/plain": [
       "Lasso()"
      ]
     },
     "execution_count": 70,
     "metadata": {},
     "output_type": "execute_result"
    }
   ],
   "source": [
    "lasso.fit(x_train,y_train)"
   ]
  },
  {
   "cell_type": "code",
   "execution_count": 76,
   "id": "94860558",
   "metadata": {
    "scrolled": false
   },
   "outputs": [
    {
     "name": "stdout",
     "output_type": "stream",
     "text": [
      "--------------------------------------------------\n",
      "Linear Regression Model\n",
      "--------------------------------------------------\n",
      "R2 Score:  0.9019418610387824 \n",
      "\n",
      "Mean Squared Error:  2.412327884352358 \n",
      "\n",
      "\n",
      "--------------------------------------------------\n",
      "Random Forest Model\n",
      "--------------------------------------------------\n",
      "R2 Score:  0.9845961423675691 \n",
      "\n",
      "Mean Squared Error:  0.3789502400000012 \n",
      "\n",
      "\n",
      "--------------------------------------------------\n",
      "Support Vector Regression Model\n",
      "--------------------------------------------------\n",
      "R2 Score:  0.9436568369727288 \n",
      "\n",
      "Mean Squared Error:  1.3860979282612453 \n",
      "\n",
      "\n",
      "--------------------------------------------------\n",
      "Ridge Model\n",
      "--------------------------------------------------\n",
      "R2 Score:  0.9032688640847263 \n",
      "\n",
      "Mean Squared Error:  2.379682287727105 \n",
      "\n",
      "\n",
      "--------------------------------------------------\n",
      "Lasso Model\n",
      "--------------------------------------------------\n",
      "R2 Score:  0.8596283763111786 \n",
      "\n",
      "Mean Squared Error:  3.4532817528821993 \n",
      "\n",
      "\n"
     ]
    }
   ],
   "source": [
    "print(\"-\"*50)\n",
    "print(\"Linear Regression Model\")\n",
    "print(\"-\"*50)\n",
    "lr_pred = lr.predict(x_test)\n",
    "print(\"R2 Score: \", r2_score(y_test,lr_pred), \"\\n\")\n",
    "print(\"Mean Squared Error: \", mean_squared_error(y_test,lr_pred), \"\\n\"*2)\n",
    "\n",
    "print(\"-\"*50)\n",
    "print(\"Random Forest Model\")\n",
    "print(\"-\"*50)\n",
    "rf_pred = rf.predict(x_test)\n",
    "print(\"R2 Score: \", r2_score(y_test,rf_pred), \"\\n\")\n",
    "print(\"Mean Squared Error: \", mean_squared_error(y_test,rf_pred), \"\\n\"*2)\n",
    "\n",
    "print(\"-\"*50)\n",
    "print(\"Support Vector Regression Model\")\n",
    "print(\"-\"*50)\n",
    "svr_pred = svr.predict(x_test)\n",
    "print(\"R2 Score: \", r2_score(y_test,svr_pred), \"\\n\")\n",
    "print(\"Mean Squared Error: \", mean_squared_error(y_test,svr_pred), \"\\n\"*2)\n",
    "\n",
    "print(\"-\"*50)\n",
    "print(\"Ridge Model\")\n",
    "print(\"-\"*50)\n",
    "ridge_pred = ridge.predict(x_test)\n",
    "print(\"R2 Score: \", r2_score(y_test,ridge_pred), \"\\n\")\n",
    "print(\"Mean Squared Error: \", mean_squared_error(y_test,ridge_pred), \"\\n\"*2)\n",
    "\n",
    "print(\"-\"*50)\n",
    "print(\"Lasso Model\")\n",
    "print(\"-\"*50)\n",
    "lasso_pred = lasso.predict(x_test)\n",
    "print(\"R2 Score: \", r2_score(y_test,lasso_pred), \"\\n\")\n",
    "print(\"Mean Squared Error: \", mean_squared_error(y_test,lasso_pred), \"\\n\"*2)"
   ]
  },
  {
   "cell_type": "markdown",
   "id": "6acd91cc",
   "metadata": {},
   "source": [
    "## Model Cross Validation"
   ]
  },
  {
   "cell_type": "code",
   "execution_count": 77,
   "id": "231d1c8a",
   "metadata": {},
   "outputs": [
    {
     "name": "stdout",
     "output_type": "stream",
     "text": [
      "Cross Validation Score for Linear Regression Model:  0.8857739370001966 \n",
      "\n",
      "\n",
      "Cross Validation Score for Random Forest Model:  0.9753331536422154 \n",
      "\n",
      "\n",
      "Cross Validation Score for Support Vector Regression Model:  0.9036275725678571 \n",
      "\n",
      "\n",
      "Cross Validation Score for Ridge Model:  0.885861065285637 \n",
      "\n",
      "\n",
      "Cross Validation Score for Lasso Model:  0.8163649691832717\n"
     ]
    }
   ],
   "source": [
    "print(\"Cross Validation Score for Linear Regression Model: \", cross_val_score(lr,scaled_X,y,cv=5).mean(), \"\\n\"*2)\n",
    "print(\"Cross Validation Score for Random Forest Model: \", cross_val_score(rf,scaled_X,y,cv=5).mean(), \"\\n\"*2)\n",
    "print(\"Cross Validation Score for Support Vector Regression Model: \", cross_val_score(svr,scaled_X,y,cv=5).mean(), \"\\n\"*2)\n",
    "print(\"Cross Validation Score for Ridge Model: \", cross_val_score(ridge,scaled_X,y,cv=5).mean(), \"\\n\"*2)\n",
    "print(\"Cross Validation Score for Lasso Model: \", cross_val_score(lasso,scaled_X,y,cv=5).mean())"
   ]
  },
  {
   "cell_type": "markdown",
   "id": "51b527bd",
   "metadata": {},
   "source": []
  },
  {
   "cell_type": "markdown",
   "id": "5cf19eaf",
   "metadata": {},
   "source": [
    "**Findings:** Based on the results of the **`R2 scores`** and **`Cross Validation scores`**, it is evident that **`Random Forest`** is the best model."
   ]
  },
  {
   "cell_type": "markdown",
   "id": "1e3edfe2",
   "metadata": {},
   "source": [
    "## Hyperparameter Tuning"
   ]
  },
  {
   "cell_type": "code",
   "execution_count": 78,
   "id": "152892c3",
   "metadata": {},
   "outputs": [],
   "source": [
    "parameters = {'n_estimators':[20,30,50,60],\n",
    "              'max_depth': [10,20,30,40],\n",
    "              'min_samples_leaf':[5,10,15,20],\n",
    "              'min_samples_split':[3,5,8,10],\n",
    "              'criterion':['mse','mae'],\n",
    "              'max_features':[\"auto\",\"sqrt\",\"log2\"]\n",
    "             }"
   ]
  },
  {
   "cell_type": "code",
   "execution_count": 79,
   "id": "0a5a84db",
   "metadata": {},
   "outputs": [],
   "source": [
    "GridCV = GridSearchCV(RandomForestRegressor(),parameters,cv=5,n_jobs = -1,verbose = 1)"
   ]
  },
  {
   "cell_type": "code",
   "execution_count": 80,
   "id": "c5800f28",
   "metadata": {},
   "outputs": [
    {
     "name": "stdout",
     "output_type": "stream",
     "text": [
      "Fitting 5 folds for each of 1536 candidates, totalling 7680 fits\n"
     ]
    },
    {
     "data": {
      "text/plain": [
       "GridSearchCV(cv=5, estimator=RandomForestRegressor(), n_jobs=-1,\n",
       "             param_grid={'criterion': ['mse', 'mae'],\n",
       "                         'max_depth': [10, 20, 30, 40],\n",
       "                         'max_features': ['auto', 'sqrt', 'log2'],\n",
       "                         'min_samples_leaf': [5, 10, 15, 20],\n",
       "                         'min_samples_split': [3, 5, 8, 10],\n",
       "                         'n_estimators': [20, 30, 50, 60]},\n",
       "             verbose=1)"
      ]
     },
     "execution_count": 80,
     "metadata": {},
     "output_type": "execute_result"
    }
   ],
   "source": [
    "GridCV.fit(x_train,y_train)"
   ]
  },
  {
   "cell_type": "code",
   "execution_count": 81,
   "id": "84b4e57e",
   "metadata": {},
   "outputs": [
    {
     "data": {
      "text/plain": [
       "{'criterion': 'mse',\n",
       " 'max_depth': 30,\n",
       " 'max_features': 'auto',\n",
       " 'min_samples_leaf': 5,\n",
       " 'min_samples_split': 10,\n",
       " 'n_estimators': 30}"
      ]
     },
     "execution_count": 81,
     "metadata": {},
     "output_type": "execute_result"
    }
   ],
   "source": [
    "GridCV.best_params_"
   ]
  },
  {
   "cell_type": "code",
   "execution_count": 82,
   "id": "1fd78e71",
   "metadata": {},
   "outputs": [],
   "source": [
    "Best_mod = RandomForestRegressor(n_estimators = 30,\n",
    "                                 criterion = 'mse',\n",
    "                                 max_depth= 30,\n",
    "                                 max_features = 'auto',\n",
    "                                 min_samples_leaf = 5,\n",
    "                                 min_samples_split = 10)"
   ]
  },
  {
   "cell_type": "code",
   "execution_count": 83,
   "id": "dea27483",
   "metadata": {},
   "outputs": [
    {
     "data": {
      "text/plain": [
       "RandomForestRegressor(max_depth=30, min_samples_leaf=5, min_samples_split=10,\n",
       "                      n_estimators=30)"
      ]
     },
     "execution_count": 83,
     "metadata": {},
     "output_type": "execute_result"
    }
   ],
   "source": [
    "Best_mod.fit(x_train,y_train)"
   ]
  },
  {
   "cell_type": "code",
   "execution_count": 84,
   "id": "1ffa8702",
   "metadata": {},
   "outputs": [
    {
     "name": "stdout",
     "output_type": "stream",
     "text": [
      "97.35871264195453\n"
     ]
    }
   ],
   "source": [
    "rfpred = Best_mod.predict(x_test)\n",
    "acc = r2_score(y_test,rfpred)\n",
    "print(acc*100)"
   ]
  },
  {
   "cell_type": "markdown",
   "id": "712df6a3",
   "metadata": {},
   "source": [
    "## `Random Forest Regressor` has an accuracy of `97.36%`"
   ]
  },
  {
   "cell_type": "markdown",
   "id": "b571ea93",
   "metadata": {},
   "source": [
    "## Saving the model"
   ]
  },
  {
   "cell_type": "code",
   "execution_count": 85,
   "id": "a95edd99",
   "metadata": {},
   "outputs": [
    {
     "data": {
      "text/plain": [
       "['Advertising_Sales_Channel_Prediction.pkl']"
      ]
     },
     "execution_count": 85,
     "metadata": {},
     "output_type": "execute_result"
    }
   ],
   "source": [
    "joblib.dump(Best_mod,\"Advertising_Sales_Channel_Prediction.pkl\")"
   ]
  },
  {
   "cell_type": "code",
   "execution_count": 86,
   "id": "c175ecf7",
   "metadata": {},
   "outputs": [
    {
     "name": "stdout",
     "output_type": "stream",
     "text": [
      "[12.5153992  18.15318845 12.08075986  7.85309031 24.21293306 16.16822963\n",
      " 11.6036459  14.00167275 19.09487043 14.46085093 19.19506864 15.08901105\n",
      " 16.97726393 17.7236868  10.37722391  7.11532339  9.99273686 24.26357635\n",
      " 14.49896156 18.85621428 22.64474339 22.82064393 15.93827651 12.66403845\n",
      " 10.03871977 11.19207827 21.55160676 11.10857855 12.41180061 18.97370376\n",
      " 15.37617285  7.84330686  9.04422467 11.1653005  14.85373286 19.90800607\n",
      " 10.33124508 11.82858591 11.3807696  15.93496841 18.93199721  6.23880105\n",
      " 13.78123455 19.58857045 12.54166084 18.64649537 17.28654964 16.5858124\n",
      " 10.29653471 10.30483029]\n"
     ]
    }
   ],
   "source": [
    "mod=joblib.load(\"Advertising_Sales_Channel_Prediction.pkl\")\n",
    "\n",
    "print(mod.predict(x_test))"
   ]
  },
  {
   "cell_type": "markdown",
   "id": "93a35d8c",
   "metadata": {},
   "source": [
    "# `END`"
   ]
  }
 ],
 "metadata": {
  "kernelspec": {
   "display_name": "Python 3",
   "language": "python",
   "name": "python3"
  },
  "language_info": {
   "codemirror_mode": {
    "name": "ipython",
    "version": 3
   },
   "file_extension": ".py",
   "mimetype": "text/x-python",
   "name": "python",
   "nbconvert_exporter": "python",
   "pygments_lexer": "ipython3",
   "version": "3.8.8"
  }
 },
 "nbformat": 4,
 "nbformat_minor": 5
}
